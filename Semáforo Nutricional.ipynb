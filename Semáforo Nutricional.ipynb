{
 "cells": [
  {
   "cell_type": "code",
   "execution_count": 12,
   "metadata": {},
   "outputs": [
    {
     "ename": "ModuleNotFoundError",
     "evalue": "No module named 'termcolor'",
     "output_type": "error",
     "traceback": [
      "\u001b[1;31m---------------------------------------------------------------------------\u001b[0m",
      "\u001b[1;31mModuleNotFoundError\u001b[0m                       Traceback (most recent call last)",
      "\u001b[1;32m<ipython-input-12-5c8f1a1d44f0>\u001b[0m in \u001b[0;36m<module>\u001b[1;34m()\u001b[0m\n\u001b[0;32m      1\u001b[0m \u001b[1;32mimport\u001b[0m \u001b[0msys\u001b[0m\u001b[1;33m\u001b[0m\u001b[0m\n\u001b[1;32m----> 2\u001b[1;33m \u001b[1;32mfrom\u001b[0m \u001b[0mtermcolor\u001b[0m \u001b[1;32mimport\u001b[0m \u001b[0mcolored\u001b[0m\u001b[1;33m,\u001b[0m \u001b[0mcprint\u001b[0m\u001b[1;33m\u001b[0m\u001b[0m\n\u001b[0m\u001b[0;32m      3\u001b[0m \u001b[1;33m\u001b[0m\u001b[0m\n\u001b[0;32m      4\u001b[0m \u001b[1;32mclass\u001b[0m \u001b[0mComida\u001b[0m\u001b[1;33m:\u001b[0m\u001b[1;33m\u001b[0m\u001b[0m\n\u001b[0;32m      5\u001b[0m     \u001b[1;32mdef\u001b[0m \u001b[0m__init__\u001b[0m\u001b[1;33m(\u001b[0m\u001b[0mself\u001b[0m\u001b[1;33m,\u001b[0m \u001b[0mnombre_comida\u001b[0m\u001b[1;33m,\u001b[0m \u001b[0mestado\u001b[0m\u001b[1;33m,\u001b[0m \u001b[0msodio\u001b[0m\u001b[1;33m,\u001b[0m \u001b[0mazúcar\u001b[0m\u001b[1;33m,\u001b[0m \u001b[0mgrasas_saturadas\u001b[0m\u001b[1;33m)\u001b[0m\u001b[1;33m:\u001b[0m\u001b[1;33m\u001b[0m\u001b[0m\n",
      "\u001b[1;31mModuleNotFoundError\u001b[0m: No module named 'termcolor'"
     ]
    }
   ],
   "source": [
    "import sys \n",
    "from termcolor import colored, cprint\n",
    "\n",
    "class Comida:\n",
    "    def __init__(self, nombre_comida, estado, sodio, azúcar, grasas_saturadas):\n",
    "        self.nombre_comida = nombre_comida \n",
    "        self.estado = estado\n",
    "        self.sodio = sodio\n",
    "        self.azúcar = azúcar\n",
    "        self.grasas_saturadas = grasas_saturadas\n",
    "\n",
    "    def semáforo_nutricional(self, estado, sodio, azúcar, grasas_saturadas): \n",
    "        if self.estado == \"Sólido\": \n",
    "            if self.sodio <= 120: \n",
    "                print(colored(f\"{self.nombre_comida} es BAJO en sodio\", 'green'))\n",
    "            elif 120 < self.sodio <= 600: \n",
    "                print(f\"{self.nombre_comida} es MEDIO en sodio\")\n",
    "            elif self.sodio > 600: \n",
    "                print(f\"{self.nombre_comida} es ALTO en sodio. Cuidado con su consumo\")\n",
    "            elif type(self.sodio) == float:\n",
    "                print(f\"Los valores deben de estar en miligramos\")\n",
    "                \n",
    "            if self.azúcar <= 5: \n",
    "                print(f\"{self.nombre_comida} es BAJO en azúcar\")\n",
    "            elif 5 < self.sodio <= 15: \n",
    "                print(f\"{self.nombre_comida} es MEDIO en azúcar\")\n",
    "            elif self.sodio > 15: \n",
    "                print(f\"{self.nombre_comida} es ALTO en azúcar. Cuidado con su consumo\")\n",
    "                  \n",
    "            if self.grasas_saturadas <= 3: \n",
    "                print(f\"{self.nombre_comida} es BAJO en grasas\")\n",
    "            elif 3 < self.sodio <= 20: \n",
    "                print(f\"{self.nombre_comida} es MEDIO en grasas\")\n",
    "            elif self.sodio > 20: \n",
    "                print(f\"{self.nombre_comida} es ALTO en grasas. Cuidado con su consumo\")\n",
    "            \n",
    "            else: \n",
    "                print(f\"Números no válidos. Recuerda tomar los valores del apartado'Infomación Nutrimental'\")\n",
    "                \n",
    "        elif self.estado == \"Líquido\": \n",
    "            if self.sodio <= 0.3: \n",
    "                print(f\"{self.nombre_comida} es BAJO en sodio\")\n",
    "            elif 0.3 < self.sodio <= 1.5: \n",
    "                print(f\"{self.nombre_comida} es MEDIO en sodio\")\n",
    "            elif self.sodio > 1.5: \n",
    "                print(f\"{self.nombre_comida} es ALTO en sodio. Cuidado con su consumo\")\n",
    "                  \n",
    "            if self.azúcar <= 2.5: \n",
    "                print(f\"{self.nombre_comida} es BAJO en azúcar\")\n",
    "            elif 2.5 < self.sodio <= 7.5: \n",
    "                print(f\"{self.nombre_comida} es MEDIO en azúcar\")\n",
    "            elif self.sodio > 7.5: \n",
    "                print(f\"{self.nombre_comida} es ALTO en azúcar. Cuidado con su consumo\")\n",
    "                  \n",
    "            if self.grasas_saturadas <= 1.5: \n",
    "                print(f\"{self.nombre_comida} es BAJO en grasas\")\n",
    "            elif 1.5 < self.sodio <= 10: \n",
    "                print(f\"{self.nombre_comida} es MEDIO en grasas\")\n",
    "            elif self.sodio > 10: \n",
    "                print(f\"{self.nombre_comida} es ALTO en grasas. Cuidado con su consumo\")\n",
    "            \n",
    "            else: \n",
    "                print(f\"Números no válidos. Recuerda tomar los valores del apartado'Infomación Nutrimental'\")\n",
    "    \n",
    "  "
   ]
  },
  {
   "cell_type": "code",
   "execution_count": 13,
   "metadata": {},
   "outputs": [
    {
     "name": "stdout",
     "output_type": "stream",
     "text": [
      "Twinky es MEDIO en sodio\n",
      "Twinky es ALTO en azúcar. Cuidado con su consumo\n",
      "Twinky es BAJO en grasas\n"
     ]
    }
   ],
   "source": [
    "twinky = Comida(\"Twinky\", \"Sólido\", 170, 13, 2.5)\n",
    "twinky.semáforo_nutricional(\"Sólido\", 170, 13, 2.5)\n"
   ]
  },
  {
   "cell_type": "code",
   "execution_count": null,
   "metadata": {},
   "outputs": [],
   "source": []
  }
 ],
 "metadata": {
  "kernelspec": {
   "display_name": "Python 3",
   "language": "python",
   "name": "python3"
  },
  "language_info": {
   "codemirror_mode": {
    "name": "ipython",
    "version": 3
   },
   "file_extension": ".py",
   "mimetype": "text/x-python",
   "name": "python",
   "nbconvert_exporter": "python",
   "pygments_lexer": "ipython3",
   "version": "3.6.5"
  }
 },
 "nbformat": 4,
 "nbformat_minor": 2
}
