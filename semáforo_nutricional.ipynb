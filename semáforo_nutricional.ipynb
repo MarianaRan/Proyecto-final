{
 "cells": [
  {
   "cell_type": "code",
   "execution_count": 1,
   "metadata": {},
   "outputs": [],
   "source": [
    "import sys \n",
    "from termcolor import colored, cprint\n",
    "\n",
    "class Comida:\n",
    "    def __init__(self, nombre_comida, estado, sodio, azúcar, grasas_saturadas):\n",
    "        self.nombre_comida = nombre_comida \n",
    "        self.estado = estado\n",
    "        self.sodio = sodio\n",
    "        self.azúcar = azúcar\n",
    "        self.grasas_saturadas = grasas_saturadas\n",
    "\n",
    "    def semáforo_nutricional(self, estado, sodio, azúcar, grasas_saturadas): \n",
    "        if self.estado == \"Sólido\": \n",
    "            if self.sodio <= 120: \n",
    "                print ((f\"{self.nombre_comida} es\"), colored (\"BAJO\", 'green'), (\"en sodio\"))\n",
    "            elif 120 < self.sodio <= 600: \n",
    "                print ((f\"{self.nombre_comida} es\"), colored (\"MEDIO\", 'yellow'), (\"en sodio\"))\n",
    "            elif self.sodio > 600: \n",
    "                print ((f\"{self.nombre_comida} es\"), colored (\"ALTO\", 'red'), (\"en sodio. Cuidado con su consumo.\"))\n",
    "            elif type(self.sodio) == float:\n",
    "                print(f\"Los valores deben de estar en miligramos\")\n",
    "                \n",
    "            if self.azúcar <= 5: \n",
    "                print ((f\"{self.nombre_comida} es\"), colored (\"BAJO\", 'green'), (\"en azúcar\"))\n",
    "            elif 5 < self.sodio <= 15: \n",
    "                print ((f\"{self.nombre_comida} es\"), colored (\"MEDIO\", 'yellow'), (\"en azúcar\"))\n",
    "            elif self.sodio > 15: \n",
    "                print ((f\"{self.nombre_comida} es\"), colored (\"ALTO\", 'red'), (\"en azúcar. Cuidado con su consumo.\"))\n",
    "                  \n",
    "            if self.grasas_saturadas <= 3: \n",
    "                print ((f\"{self.nombre_comida} es\"), colored (\"BAJO\", 'green'), (\"en grasas\"))\n",
    "            elif 3 < self.sodio <= 20: \n",
    "                print ((f\"{self.nombre_comida} es\"), colored (\"MEDIO\", 'yellow'), (\"en grasas\"))\n",
    "            elif self.sodio > 20: \n",
    "                print ((f\"{self.nombre_comida} es\"), colored (\"ALTO\", 'red'), (\"en grasas. Cuidado con su consumo.\"))\n",
    "            \n",
    "            else: \n",
    "                print(f\"Números no válidos. Recuerda tomar los valores del apartado'Infomación Nutrimental'\")\n",
    "                \n",
    "        elif self.estado == \"Líquido\": \n",
    "            if self.sodio <= 0.3: \n",
    "                print ((f\"{self.nombre_comida} es\"), colored (\"BAJO\", 'green'), (\"en sodio\"))\n",
    "            elif 0.3 < self.sodio <= 1.5: \n",
    "                print ((f\"{self.nombre_comida} es\"), colored (\"MEDIO\", 'yellow'), (\"en sodio\"))\n",
    "            elif self.sodio > 1.5: \n",
    "                print ((f\"{self.nombre_comida} es\"), colored (\"ALTO\", 'red'), (\"en sodio. Cuidado con su consumo.\"))\n",
    "                  \n",
    "            if self.azúcar <= 2.5: \n",
    "                print ((f\"{self.nombre_comida} es\"), colored (\"BAJO\", 'green'), (\"en azúcar\"))\n",
    "            elif 2.5 < self.sodio <= 7.5: \n",
    "                print ((f\"{self.nombre_comida} es\"), colored (\"MEDIO\", 'orange'), (\"en azúcar\"))\n",
    "            elif self.sodio > 7.5: \n",
    "                print ((f\"{self.nombre_comida} es\"), colored (\"ALTO\", 'red'), (\"en azúcar. Cuidado con su consumo.\"))\n",
    "                  \n",
    "            if self.grasas_saturadas <= 1.5: \n",
    "                print ((f\"{self.nombre_comida} es\"), colored (\"BAJO\", 'green'), (\"en grasas\"))\n",
    "            elif 1.5 < self.sodio <= 10: \n",
    "                print ((f\"{self.nombre_comida} es\"), colored (\"MEDIO\", 'yellow'), (\"en grasas\"))\n",
    "            elif self.sodio > 10: \n",
    "                print ((f\"{self.nombre_comida} es\"), colored (\"ALTO\", 'red'), (\"en grasas. Cuidado con su consumo.\"))\n",
    "            \n",
    "            else: \n",
    "                print(f\"Números no válidos. Recuerda tomar los valores del apartado'Infomación Nutrimental'.\")\n",
    "    \n",
    "  "
   ]
  },
  {
   "cell_type": "code",
   "execution_count": 2,
   "metadata": {},
   "outputs": [
    {
     "name": "stdout",
     "output_type": "stream",
     "text": [
      "Twinky es \u001b[33mMEDIO\u001b[0m en sodio\n",
      "Twinky es \u001b[31mALTO\u001b[0m en azúcar. Cuidado con su consumo.\n",
      "Twinky es \u001b[32mBAJO\u001b[0m en grasas\n"
     ]
    }
   ],
   "source": [
    "twinky = Comida(\"Twinky\", \"Sólido\", 170, 13, 2.5)\n",
    "twinky.semáforo_nutricional(\"Sólido\", 170, 13, 2.5)\n"
   ]
  },
  {
   "cell_type": "code",
   "execution_count": null,
   "metadata": {},
   "outputs": [],
   "source": []
  }
 ],
 "metadata": {
  "kernelspec": {
   "display_name": "Python 3",
   "language": "python",
   "name": "python3"
  },
  "language_info": {
   "codemirror_mode": {
    "name": "ipython",
    "version": 3
   },
   "file_extension": ".py",
   "mimetype": "text/x-python",
   "name": "python",
   "nbconvert_exporter": "python",
   "pygments_lexer": "ipython3",
   "version": "3.6.5"
  }
 },
 "nbformat": 4,
 "nbformat_minor": 2
}
